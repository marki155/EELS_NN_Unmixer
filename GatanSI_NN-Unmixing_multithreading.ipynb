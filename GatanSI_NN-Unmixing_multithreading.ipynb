{
 "cells": [
  {
   "cell_type": "code",
   "execution_count": 4,
   "id": "3bdedae1",
   "metadata": {},
   "outputs": [],
   "source": [
    "from unmixing_multithreading import task, p_alive, SpectralUnmixer\n",
    "from utility import make_dir\n",
    "import os\n",
    "import pandas as pd\n",
    "import time\n",
    "import copy\n",
    "import tensorflow as tf\n",
    "from multiprocessing import Process\n",
    "from tqdm.notebook import tqdm, trange"
   ]
  },
  {
   "cell_type": "markdown",
   "id": "8b0bb239",
   "metadata": {},
   "source": [
    "# Data Source"
   ]
  },
  {
   "cell_type": "code",
   "execution_count": 5,
   "id": "8017c7ab",
   "metadata": {},
   "outputs": [],
   "source": [
    "SUB_DIR = \"SI data (1)\\\\\"\n",
    "MAIN_DIR = \"C:\\\\Users\\\\KoegelMarco\\\\Documents\\\\Ergebnisse\\\\DataShare\\\\PhD\\\\Li Unmixing Test\\\\\"\n",
    "PREPROCESS_MAIN_DIR = MAIN_DIR + \"preprocess_tuning_Li-edge_no-binning\\\\\"\n",
    "folder = \"SI data (1)\""
   ]
  },
  {
   "cell_type": "markdown",
   "id": "addc18ff",
   "metadata": {},
   "source": [
    "# Specimen properties"
   ]
  },
  {
   "cell_type": "code",
   "execution_count": 6,
   "id": "8b11077a",
   "metadata": {},
   "outputs": [],
   "source": [
    "ELEMENTS = [\"Li\"]  # only for background removal\n",
    "\n",
    "COMP_NAMES_ALL = [\"comp\" + str(i) for i in range(100)]\n",
    "\n",
    "parameters = {\"component_names\": [\"\"],   # Placeholder\n",
    "              \"omegas\": [None, 1, None],     # Datafusion weighting [EELS_LL, EELS_CL, EDX]\n",
    "              \"end_eels_cl\": (\"custom\", 52, 80)}   # (\"custom\", start_EELS_energy[eV], end_EELS_energy[eV[]]"
   ]
  },
  {
   "cell_type": "markdown",
   "id": "5193412e",
   "metadata": {},
   "source": [
    "# Learning parameter space"
   ]
  },
  {
   "cell_type": "code",
   "execution_count": 7,
   "id": "c8d8559b",
   "metadata": {},
   "outputs": [],
   "source": [
    "Rs = [4, 5, 6, 7, 8, 9, 10, 11]#,7,8,9]\n",
    "batch_sizes = [20, 50, 100]#, 10, 300]\n",
    "epochs = [500, 500]#, 400] # additive\n",
    "learning_rates = [0.005]\n",
    "dropouts = [0.01]\n",
    "layer_activations = [\"sigmoid\"]\n",
    "end_activations = [(\"sig\", tf.keras.activations.sigmoid)]\n",
    "ab_rates = [1e-2, 1e-1, 1, 10]\n",
    "neg_rates = [1e-1]\n",
    "layer_unitss = [[9, 6, 3, 1]]#, [16, 8, 4, 1]]"
   ]
  },
  {
   "cell_type": "markdown",
   "id": "ad145ffc",
   "metadata": {},
   "source": [
    "# Hardware Specs"
   ]
  },
  {
   "cell_type": "code",
   "execution_count": 8,
   "id": "f9626760",
   "metadata": {},
   "outputs": [],
   "source": [
    "N_CPU = 4"
   ]
  },
  {
   "cell_type": "markdown",
   "id": "ddc0e416",
   "metadata": {},
   "source": [
    "# Preprocessing"
   ]
  },
  {
   "cell_type": "code",
   "execution_count": 9,
   "id": "d3157371",
   "metadata": {},
   "outputs": [
    {
     "name": "stdout",
     "output_type": "stream",
     "text": [
      "-----------------------------\n",
      "SI data (1)\n",
      "-----------------------------\n",
      "PREPROCESS data file in SI data (1)\\\n"
     ]
    },
    {
     "name": "stderr",
     "output_type": "stream",
     "text": [
      "WARNING:hyperspy.io:There is more than one kind of signal that matches the current specifications. This is unexpected behaviour. Please report this issue to the HyperSpy developers.\n",
      "WARNING:hyperspy.io:There is more than one kind of signal that matches the current specifications. This is unexpected behaviour. Please report this issue to the HyperSpy developers.\n",
      "WARNING:hyperspy.io:There is more than one kind of signal that matches the current specifications. This is unexpected behaviour. Please report this issue to the HyperSpy developers.\n"
     ]
    },
    {
     "name": "stdout",
     "output_type": "stream",
     "text": [
      "Initial ZLP position statistics\n",
      "-------------------------------\n",
      "Summary statistics\n",
      "------------------\n",
      "mean:\t7.22\n",
      "std:\t2.18\n",
      "\n",
      "min:\t2\n",
      "Q1:\t5.5\n",
      "median:\t7.25\n",
      "Q3:\t8.75\n",
      "max:\t12.5\n",
      "[########################################] | 100% Completed | 2.08 ss\n"
     ]
    },
    {
     "name": "stderr",
     "output_type": "stream",
     "text": [
      "WARNING:hyperspy.io:There is more than one kind of signal that matches the current specifications. This is unexpected behaviour. Please report this issue to the HyperSpy developers.\n"
     ]
    },
    {
     "name": "stdout",
     "output_type": "stream",
     "text": [
      "[########################################] | 100% Completed | 2.06 ss\n",
      "[########################################] | 100% Completed | 1.63 ss\n",
      "[########################################] | 100% Completed | 766.33 ms\n"
     ]
    },
    {
     "name": "stderr",
     "output_type": "stream",
     "text": [
      "WARNING:hyperspy.io:There is more than one kind of signal that matches the current specifications. This is unexpected behaviour. Please report this issue to the HyperSpy developers.\n"
     ]
    },
    {
     "name": "stdout",
     "output_type": "stream",
     "text": [
      "[########################################] | 100% Completed | 760.95 ms\n"
     ]
    },
    {
     "name": "stderr",
     "output_type": "stream",
     "text": [
      "WARNING:hyperspy.io:There is more than one kind of signal that matches the current specifications. This is unexpected behaviour. Please report this issue to the HyperSpy developers.\n",
      "WARNING:hyperspy.io:There is more than one kind of signal that matches the current specifications. This is unexpected behaviour. Please report this issue to the HyperSpy developers.\n",
      "WARNING:hyperspy.io:There is more than one kind of signal that matches the current specifications. This is unexpected behaviour. Please report this issue to the HyperSpy developers.\n",
      "WARNING:hyperspy._signals.signal1d:Parallel operation is not supported on Windows. Setting `parallel=False`\n",
      "WARNING:hyperspy.io:There is more than one kind of signal that matches the current specifications. This is unexpected behaviour. Please report this issue to the HyperSpy developers.\n"
     ]
    },
    {
     "name": "stdout",
     "output_type": "stream",
     "text": [
      "[########################################] | 100% Completed | 282.67 ms\n"
     ]
    },
    {
     "name": "stderr",
     "output_type": "stream",
     "text": [
      "WARNING:hyperspy.io:There is more than one kind of signal that matches the current specifications. This is unexpected behaviour. Please report this issue to the HyperSpy developers.\n",
      "WARNING:hyperspy.io:There is more than one kind of signal that matches the current specifications. This is unexpected behaviour. Please report this issue to the HyperSpy developers.\n",
      "WARNING:hyperspy.io:There is more than one kind of signal that matches the current specifications. This is unexpected behaviour. Please report this issue to the HyperSpy developers.\n"
     ]
    },
    {
     "name": "stdout",
     "output_type": "stream",
     "text": [
      "Initial ZLP position statistics\n",
      "-------------------------------\n",
      "Summary statistics\n",
      "------------------\n",
      "mean:\t7.22\n",
      "std:\t2.18\n",
      "\n",
      "min:\t2\n",
      "Q1:\t5.5\n",
      "median:\t7.25\n",
      "Q3:\t8.75\n",
      "max:\t12.5\n",
      "[########################################] | 100% Completed | 2.18 ss\n"
     ]
    },
    {
     "name": "stderr",
     "output_type": "stream",
     "text": [
      "WARNING:hyperspy.io:There is more than one kind of signal that matches the current specifications. This is unexpected behaviour. Please report this issue to the HyperSpy developers.\n"
     ]
    },
    {
     "name": "stdout",
     "output_type": "stream",
     "text": [
      "[########################################] | 100% Completed | 2.07 ss\n",
      "[########################################] | 100% Completed | 1.65 ss\n",
      "[########################################] | 100% Completed | 765.48 ms\n"
     ]
    },
    {
     "name": "stderr",
     "output_type": "stream",
     "text": [
      "WARNING:hyperspy.io:There is more than one kind of signal that matches the current specifications. This is unexpected behaviour. Please report this issue to the HyperSpy developers.\n"
     ]
    },
    {
     "name": "stdout",
     "output_type": "stream",
     "text": [
      "[########################################] | 100% Completed | 761.07 ms\n"
     ]
    },
    {
     "name": "stderr",
     "output_type": "stream",
     "text": [
      "WARNING:hyperspy.io:There is more than one kind of signal that matches the current specifications. This is unexpected behaviour. Please report this issue to the HyperSpy developers.\n",
      "WARNING:hyperspy.io:There is more than one kind of signal that matches the current specifications. This is unexpected behaviour. Please report this issue to the HyperSpy developers.\n",
      "WARNING:hyperspy.io:There is more than one kind of signal that matches the current specifications. This is unexpected behaviour. Please report this issue to the HyperSpy developers.\n",
      "WARNING:hyperspy._signals.signal1d:Parallel operation is not supported on Windows. Setting `parallel=False`\n",
      "WARNING:hyperspy.io:There is more than one kind of signal that matches the current specifications. This is unexpected behaviour. Please report this issue to the HyperSpy developers.\n"
     ]
    },
    {
     "name": "stdout",
     "output_type": "stream",
     "text": [
      "[########################################] | 100% Completed | 364.26 ms\n"
     ]
    }
   ],
   "source": [
    "unmixer = SpectralUnmixer(ELEMENTS, parameters)\n",
    "\n",
    "\n",
    "print(\"-----------------------------\")\n",
    "print(folder)\n",
    "print(\"-----------------------------\")\n",
    "\n",
    "make_dir(PREPROCESS_MAIN_DIR + SUB_DIR)\n",
    "\n",
    "sample = MAIN_DIR\n",
    "splits = sample.split(\"\\\\\")\n",
    "#main = splits[-4] + \"\\\\\"\n",
    "sample = folder + \"\\\\\"\n",
    "print(\"PREPROCESS data file in \" + sample)\n",
    "make_dir(PREPROCESS_MAIN_DIR + sample)\n",
    "\n",
    "\n",
    "unmixer.add_data(MAIN_DIR + sample, remove_eels_background=False, use_refs=False, binning_factor=1)\n",
    "\n",
    "\n",
    "unmixer.shuffle()\n",
    "\n",
    "\n",
    "\n",
    "\n",
    "if not os.path.isfile(PREPROCESS_MAIN_DIR + \"tuning.pkl\") :\n",
    "    df = pd.DataFrame(columns=[\"R\", \"learning_rate\", \"end_activation\",\n",
    "                                          \"layer_activation\", \"ab_rate\", \"neg_rate\", \"layer_units\",\n",
    "                                          \"dropout\", \"batch_size\", \"epoch\",\n",
    "                                          \"loss\",\n",
    "                                          \"error\", \"loss_pred\", \"err_pred\", \"adundance_diff\", \"spec_dist\"])\n",
    "    df.to_pickle(PREPROCESS_MAIN_DIR + \"tuning.pkl\")\n",
    "    N_start = 0\n",
    "else:\n",
    "    df = pd.read_pickle(PREPROCESS_MAIN_DIR + \"tuning.pkl\")\n",
    "    N_start = len(df.index) + 1\n",
    "\n",
    "N_curr = N_start\n",
    "\n",
    "save_name=None\n",
    "#comp_names = parameters[\"component_names\"]\n",
    "fusion_data_binned = unmixer.data_collection\n",
    "\n",
    "pre_predicter = unmixer.make_predicter()\n",
    "pre_predicter.stuff(use_refs=False, PATH=MAIN_DIR + sample, remove_eels_background=False)\n",
    "predicter = pre_predicter.make_predicter()\n",
    "p_list = []\n",
    "\n",
    "for R in Rs:\n",
    "    predicter = copy.copy(predicter)\n",
    "    parameters = {\"component_names\": COMP_NAMES_ALL[:R],\n",
    "                  \"omegas\": [None, 1, None],\n",
    "                  \"end_eels_cl\": (\"custom\", 52,80)}\n",
    "    predicter.parameters = parameters\n",
    "    for learning_rate in learning_rates:\n",
    "        for end_act_name, end_activation in end_activations:\n",
    "            for layer_activation in layer_activations:\n",
    "                for ab_rate in ab_rates:\n",
    "                    for neg_rate in neg_rates:\n",
    "                        for layer_units in layer_unitss:\n",
    "                            for dropout in dropouts:\n",
    "                                for batch_size in batch_sizes:\n",
    "                                    data_pack = (MAIN_DIR + sample, PREPROCESS_MAIN_DIR, predicter, fusion_data_binned, save_name)\n",
    "                                    process = Process(target=task, args=(N_curr, data_pack, R, learning_rate, (end_act_name, end_activation),\n",
    "                                                        layer_activation, layer_units, ab_rate, neg_rate,\n",
    "                                                        dropout, batch_size, epochs,None))\n",
    "                                    p_list.append(process)\n",
    "                                    N_curr += len(epochs)\n",
    "                                    #process.start()\n",
    "\n",
    "\n"
   ]
  },
  {
   "cell_type": "markdown",
   "id": "2fcbcc27",
   "metadata": {},
   "source": [
    "# Start unmixing (multithreading)"
   ]
  },
  {
   "cell_type": "code",
   "execution_count": null,
   "id": "1cbfa29b",
   "metadata": {},
   "outputs": [
    {
     "data": {
      "application/vnd.jupyter.widget-view+json": {
       "model_id": "54c02f4fb85d4588be260b2b0ccce58c",
       "version_major": 2,
       "version_minor": 0
      },
      "text/plain": [
       "  0%|          | 0/96 [00:00<?, ?it/s]"
      ]
     },
     "metadata": {},
     "output_type": "display_data"
    }
   ],
   "source": [
    "for p in tqdm(p_list):\n",
    "    while p_alive(p_list) >= N_CPU:\n",
    "        time.sleep(3)\n",
    "    p.start()\n",
    "    #print(\"process \" + p.name + \" started\")\n",
    "    #print(str(p_alive(p_list)) + \" processes active\")\n",
    "    #print(\"process finished\")"
   ]
  },
  {
   "cell_type": "markdown",
   "id": "96b45075",
   "metadata": {},
   "source": [
    "# Results"
   ]
  },
  {
   "cell_type": "code",
   "execution_count": 10,
   "id": "55a7777b",
   "metadata": {},
   "outputs": [
    {
     "data": {
      "text/html": [
       "<div>\n",
       "<style scoped>\n",
       "    .dataframe tbody tr th:only-of-type {\n",
       "        vertical-align: middle;\n",
       "    }\n",
       "\n",
       "    .dataframe tbody tr th {\n",
       "        vertical-align: top;\n",
       "    }\n",
       "\n",
       "    .dataframe thead th {\n",
       "        text-align: right;\n",
       "    }\n",
       "</style>\n",
       "<table border=\"1\" class=\"dataframe\">\n",
       "  <thead>\n",
       "    <tr style=\"text-align: right;\">\n",
       "      <th></th>\n",
       "      <th>R</th>\n",
       "      <th>learning_rate</th>\n",
       "      <th>end_activation</th>\n",
       "      <th>layer_activation</th>\n",
       "      <th>ab_rate</th>\n",
       "      <th>neg_rate</th>\n",
       "      <th>layer_units</th>\n",
       "      <th>dropout</th>\n",
       "      <th>batch_size</th>\n",
       "      <th>epoch</th>\n",
       "      <th>loss</th>\n",
       "      <th>error</th>\n",
       "      <th>loss_pred</th>\n",
       "      <th>err_pred</th>\n",
       "      <th>adundance_diff</th>\n",
       "      <th>spec_dist</th>\n",
       "    </tr>\n",
       "  </thead>\n",
       "  <tbody>\n",
       "    <tr>\n",
       "      <th>172</th>\n",
       "      <td>11</td>\n",
       "      <td>0.005</td>\n",
       "      <td>sig</td>\n",
       "      <td>sigmoid</td>\n",
       "      <td>0.01</td>\n",
       "      <td>0.1</td>\n",
       "      <td>[9, 6, 3, 1]</td>\n",
       "      <td>0.01</td>\n",
       "      <td>100</td>\n",
       "      <td>500</td>\n",
       "      <td>0.322961</td>\n",
       "      <td>0.560910</td>\n",
       "      <td>0.324863</td>\n",
       "      <td>0.560909</td>\n",
       "      <td>0.713903</td>\n",
       "      <td>0.111825</td>\n",
       "    </tr>\n",
       "    <tr>\n",
       "      <th>148</th>\n",
       "      <td>10</td>\n",
       "      <td>0.005</td>\n",
       "      <td>sig</td>\n",
       "      <td>sigmoid</td>\n",
       "      <td>0.01</td>\n",
       "      <td>0.1</td>\n",
       "      <td>[9, 6, 3, 1]</td>\n",
       "      <td>0.01</td>\n",
       "      <td>100</td>\n",
       "      <td>500</td>\n",
       "      <td>0.322767</td>\n",
       "      <td>0.566207</td>\n",
       "      <td>0.324610</td>\n",
       "      <td>0.566207</td>\n",
       "      <td>0.642769</td>\n",
       "      <td>0.108254</td>\n",
       "    </tr>\n",
       "    <tr>\n",
       "      <th>124</th>\n",
       "      <td>9</td>\n",
       "      <td>0.005</td>\n",
       "      <td>sig</td>\n",
       "      <td>sigmoid</td>\n",
       "      <td>0.01</td>\n",
       "      <td>0.1</td>\n",
       "      <td>[9, 6, 3, 1]</td>\n",
       "      <td>0.01</td>\n",
       "      <td>100</td>\n",
       "      <td>500</td>\n",
       "      <td>0.325127</td>\n",
       "      <td>0.569652</td>\n",
       "      <td>0.326267</td>\n",
       "      <td>0.569652</td>\n",
       "      <td>0.499031</td>\n",
       "      <td>0.083870</td>\n",
       "    </tr>\n",
       "    <tr>\n",
       "      <th>100</th>\n",
       "      <td>8</td>\n",
       "      <td>0.005</td>\n",
       "      <td>sig</td>\n",
       "      <td>sigmoid</td>\n",
       "      <td>0.01</td>\n",
       "      <td>0.1</td>\n",
       "      <td>[9, 6, 3, 1]</td>\n",
       "      <td>0.01</td>\n",
       "      <td>100</td>\n",
       "      <td>500</td>\n",
       "      <td>0.323449</td>\n",
       "      <td>0.582805</td>\n",
       "      <td>0.324930</td>\n",
       "      <td>0.582805</td>\n",
       "      <td>0.589215</td>\n",
       "      <td>0.090716</td>\n",
       "    </tr>\n",
       "    <tr>\n",
       "      <th>76</th>\n",
       "      <td>7</td>\n",
       "      <td>0.005</td>\n",
       "      <td>sig</td>\n",
       "      <td>sigmoid</td>\n",
       "      <td>0.01</td>\n",
       "      <td>0.1</td>\n",
       "      <td>[9, 6, 3, 1]</td>\n",
       "      <td>0.01</td>\n",
       "      <td>100</td>\n",
       "      <td>500</td>\n",
       "      <td>0.321816</td>\n",
       "      <td>0.590202</td>\n",
       "      <td>0.322880</td>\n",
       "      <td>0.590202</td>\n",
       "      <td>0.536111</td>\n",
       "      <td>0.068945</td>\n",
       "    </tr>\n",
       "    <tr>\n",
       "      <th>...</th>\n",
       "      <td>...</td>\n",
       "      <td>...</td>\n",
       "      <td>...</td>\n",
       "      <td>...</td>\n",
       "      <td>...</td>\n",
       "      <td>...</td>\n",
       "      <td>...</td>\n",
       "      <td>...</td>\n",
       "      <td>...</td>\n",
       "      <td>...</td>\n",
       "      <td>...</td>\n",
       "      <td>...</td>\n",
       "      <td>...</td>\n",
       "      <td>...</td>\n",
       "      <td>...</td>\n",
       "      <td>...</td>\n",
       "    </tr>\n",
       "    <tr>\n",
       "      <th>43</th>\n",
       "      <td>5</td>\n",
       "      <td>0.005</td>\n",
       "      <td>sig</td>\n",
       "      <td>sigmoid</td>\n",
       "      <td>10.00</td>\n",
       "      <td>0.1</td>\n",
       "      <td>[9, 6, 3, 1]</td>\n",
       "      <td>0.01</td>\n",
       "      <td>20</td>\n",
       "      <td>1000</td>\n",
       "      <td>310.107666</td>\n",
       "      <td>37.196274</td>\n",
       "      <td>310.107666</td>\n",
       "      <td>37.196274</td>\n",
       "      <td>0.203805</td>\n",
       "      <td>1.679050</td>\n",
       "    </tr>\n",
       "    <tr>\n",
       "      <th>187</th>\n",
       "      <td>11</td>\n",
       "      <td>0.005</td>\n",
       "      <td>sig</td>\n",
       "      <td>sigmoid</td>\n",
       "      <td>10.00</td>\n",
       "      <td>0.1</td>\n",
       "      <td>[9, 6, 3, 1]</td>\n",
       "      <td>0.01</td>\n",
       "      <td>20</td>\n",
       "      <td>1000</td>\n",
       "      <td>309.997162</td>\n",
       "      <td>37.898888</td>\n",
       "      <td>309.997162</td>\n",
       "      <td>37.898888</td>\n",
       "      <td>0.096971</td>\n",
       "      <td>1.065368</td>\n",
       "    </tr>\n",
       "    <tr>\n",
       "      <th>61</th>\n",
       "      <td>6</td>\n",
       "      <td>0.005</td>\n",
       "      <td>sig</td>\n",
       "      <td>sigmoid</td>\n",
       "      <td>1.00</td>\n",
       "      <td>0.1</td>\n",
       "      <td>[9, 6, 3, 1]</td>\n",
       "      <td>0.01</td>\n",
       "      <td>20</td>\n",
       "      <td>1000</td>\n",
       "      <td>31.114397</td>\n",
       "      <td>38.278500</td>\n",
       "      <td>31.114397</td>\n",
       "      <td>38.278500</td>\n",
       "      <td>0.308206</td>\n",
       "      <td>3.646057</td>\n",
       "    </tr>\n",
       "    <tr>\n",
       "      <th>55</th>\n",
       "      <td>6</td>\n",
       "      <td>0.005</td>\n",
       "      <td>sig</td>\n",
       "      <td>sigmoid</td>\n",
       "      <td>0.10</td>\n",
       "      <td>0.1</td>\n",
       "      <td>[9, 6, 3, 1]</td>\n",
       "      <td>0.01</td>\n",
       "      <td>20</td>\n",
       "      <td>1000</td>\n",
       "      <td>3.118925</td>\n",
       "      <td>39.153919</td>\n",
       "      <td>3.118925</td>\n",
       "      <td>39.153919</td>\n",
       "      <td>0.374356</td>\n",
       "      <td>2.068398</td>\n",
       "    </tr>\n",
       "    <tr>\n",
       "      <th>85</th>\n",
       "      <td>7</td>\n",
       "      <td>0.005</td>\n",
       "      <td>sig</td>\n",
       "      <td>sigmoid</td>\n",
       "      <td>1.00</td>\n",
       "      <td>0.1</td>\n",
       "      <td>[9, 6, 3, 1]</td>\n",
       "      <td>0.01</td>\n",
       "      <td>20</td>\n",
       "      <td>1000</td>\n",
       "      <td>31.191517</td>\n",
       "      <td>39.419731</td>\n",
       "      <td>31.191517</td>\n",
       "      <td>39.419731</td>\n",
       "      <td>0.437648</td>\n",
       "      <td>1.686199</td>\n",
       "    </tr>\n",
       "  </tbody>\n",
       "</table>\n",
       "<p>193 rows × 16 columns</p>\n",
       "</div>"
      ],
      "text/plain": [
       "      R  learning_rate end_activation layer_activation  ab_rate  neg_rate  \\\n",
       "172  11          0.005            sig          sigmoid     0.01       0.1   \n",
       "148  10          0.005            sig          sigmoid     0.01       0.1   \n",
       "124   9          0.005            sig          sigmoid     0.01       0.1   \n",
       "100   8          0.005            sig          sigmoid     0.01       0.1   \n",
       "76    7          0.005            sig          sigmoid     0.01       0.1   \n",
       "..   ..            ...            ...              ...      ...       ...   \n",
       "43    5          0.005            sig          sigmoid    10.00       0.1   \n",
       "187  11          0.005            sig          sigmoid    10.00       0.1   \n",
       "61    6          0.005            sig          sigmoid     1.00       0.1   \n",
       "55    6          0.005            sig          sigmoid     0.10       0.1   \n",
       "85    7          0.005            sig          sigmoid     1.00       0.1   \n",
       "\n",
       "      layer_units  dropout batch_size epoch        loss      error  \\\n",
       "172  [9, 6, 3, 1]     0.01        100   500    0.322961   0.560910   \n",
       "148  [9, 6, 3, 1]     0.01        100   500    0.322767   0.566207   \n",
       "124  [9, 6, 3, 1]     0.01        100   500    0.325127   0.569652   \n",
       "100  [9, 6, 3, 1]     0.01        100   500    0.323449   0.582805   \n",
       "76   [9, 6, 3, 1]     0.01        100   500    0.321816   0.590202   \n",
       "..            ...      ...        ...   ...         ...        ...   \n",
       "43   [9, 6, 3, 1]     0.01         20  1000  310.107666  37.196274   \n",
       "187  [9, 6, 3, 1]     0.01         20  1000  309.997162  37.898888   \n",
       "61   [9, 6, 3, 1]     0.01         20  1000   31.114397  38.278500   \n",
       "55   [9, 6, 3, 1]     0.01         20  1000    3.118925  39.153919   \n",
       "85   [9, 6, 3, 1]     0.01         20  1000   31.191517  39.419731   \n",
       "\n",
       "      loss_pred   err_pred  adundance_diff  spec_dist  \n",
       "172    0.324863   0.560909        0.713903   0.111825  \n",
       "148    0.324610   0.566207        0.642769   0.108254  \n",
       "124    0.326267   0.569652        0.499031   0.083870  \n",
       "100    0.324930   0.582805        0.589215   0.090716  \n",
       "76     0.322880   0.590202        0.536111   0.068945  \n",
       "..          ...        ...             ...        ...  \n",
       "43   310.107666  37.196274        0.203805   1.679050  \n",
       "187  309.997162  37.898888        0.096971   1.065368  \n",
       "61    31.114397  38.278500        0.308206   3.646057  \n",
       "55     3.118925  39.153919        0.374356   2.068398  \n",
       "85    31.191517  39.419731        0.437648   1.686199  \n",
       "\n",
       "[193 rows x 16 columns]"
      ]
     },
     "execution_count": 10,
     "metadata": {},
     "output_type": "execute_result"
    }
   ],
   "source": [
    "df = pd.read_pickle(PREPROCESS_MAIN_DIR + \"tuning.pkl\")\n",
    "df.sort_values(\"error\")"
   ]
  },
  {
   "cell_type": "code",
   "execution_count": null,
   "id": "01b565a3",
   "metadata": {},
   "outputs": [],
   "source": []
  }
 ],
 "metadata": {
  "kernelspec": {
   "display_name": "Python 3 (ipykernel)",
   "language": "python",
   "name": "python3"
  },
  "language_info": {
   "codemirror_mode": {
    "name": "ipython",
    "version": 3
   },
   "file_extension": ".py",
   "mimetype": "text/x-python",
   "name": "python",
   "nbconvert_exporter": "python",
   "pygments_lexer": "ipython3",
   "version": "3.9.9"
  }
 },
 "nbformat": 4,
 "nbformat_minor": 5
}
